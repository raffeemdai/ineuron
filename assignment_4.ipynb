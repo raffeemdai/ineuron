{
 "cells": [
  {
   "cell_type": "markdown",
   "metadata": {},
   "source": [
    "Write a Python Program(with class concepts) to find the area of the triangle using the below\n",
    "formula.\n",
    "\n",
    "area = (s * (s-a) * (s-b) * (s-c)) * * 0.5\n",
    "\n",
    "\n",
    "s = (a + b + c) / 2\n",
    "\n",
    " formula A = sqrt( s(s-a)(s-b)(s-c) )"
   ]
  },
  {
   "cell_type": "code",
   "execution_count": null,
   "metadata": {},
   "outputs": [],
   "source": [
    "import sys\n",
    "import math\n",
    " \n",
    "a = int(input('Please enter the first side of a triangle: '))\n",
    "b = int(input('Please enter the second side of a triangle: '))\n",
    "c = int(input('Please enter the third side of a triangle: '))\n",
    "class triangle():\n",
    "   def __init__(self,a,b,c):\n",
    "       self.a = a\n",
    "       self.b = b\n",
    "       self.c = c\n",
    "   def area(self):\n",
    "       s=(a + b + c)/2\n",
    "       area=math.sqrt(s*(s-a)*(s-b)*(s-c))\n",
    "       return area\n",
    "t = triangle(a, b, c)\n",
    "print(t.area())"
   ]
  },
  {
   "cell_type": "markdown",
   "metadata": {},
   "source": [
    "1.2 Write a function filter_long_words() that takes a list of words and an integer n and returns\n",
    "the list of words that are longer than n"
   ]
  },
  {
   "cell_type": "code",
   "execution_count": null,
   "metadata": {},
   "outputs": [],
   "source": [
    "def filter_long_words(words, n):\n",
    "    return list(filter(lambda x: len(x) > n, words))\n",
    "\n",
    "\n",
    "print ((filter_long_words(['python', 'for', 'testing','functions','lmbda'], 5)))"
   ]
  },
  {
   "cell_type": "markdown",
   "metadata": {},
   "source": [
    "2.1 Write a Python program using function concept that maps list of words into a list of integers\n",
    "representing the lengths of the corresponding words."
   ]
  },
  {
   "cell_type": "code",
   "execution_count": 4,
   "metadata": {},
   "outputs": [
    {
     "name": "stdout",
     "output_type": "stream",
     "text": [
      "[6, 3, 7, 9, 5]\n"
     ]
    }
   ],
   "source": [
    "def map_length_words(words):\n",
    "    return list(map(lambda x: len(x), words))\n",
    "\n",
    "print ((map_length_words(['python', 'for', 'testing','functions','lmbda'])))\n"
   ]
  },
  {
   "cell_type": "markdown",
   "metadata": {},
   "source": [
    "2.2 Write a Python function which takes a character (i.e. a string of length 1) and returns True if\n",
    "it is a vowel, False otherwise.\n"
   ]
  },
  {
   "cell_type": "code",
   "execution_count": 12,
   "metadata": {},
   "outputs": [
    {
     "name": "stdout",
     "output_type": "stream",
     "text": [
      "False\n",
      "True\n"
     ]
    }
   ],
   "source": [
    "def is_char_vowel(char):\n",
    "    vowels = 'aeiou'\n",
    "    return char.lower() in vowels\n",
    "print(is_char_vowel('H'))\n",
    "print(is_char_vowel('a'))"
   ]
  },
  {
   "cell_type": "code",
   "execution_count": null,
   "metadata": {},
   "outputs": [],
   "source": []
  }
 ],
 "metadata": {
  "kernelspec": {
   "display_name": "Python 3",
   "language": "python",
   "name": "python3"
  },
  "language_info": {
   "codemirror_mode": {
    "name": "ipython",
    "version": 3
   },
   "file_extension": ".py",
   "mimetype": "text/x-python",
   "name": "python",
   "nbconvert_exporter": "python",
   "pygments_lexer": "ipython3",
   "version": "3.7.4"
  }
 },
 "nbformat": 4,
 "nbformat_minor": 2
}
